{
 "cells": [
  {
   "cell_type": "code",
   "execution_count": 1,
   "metadata": {
    "colab": {},
    "colab_type": "code",
    "id": "-BizX4PyF3q5"
   },
   "outputs": [],
   "source": [
    "import pandas as pd\n",
    "import numpy as np\n",
    "import tensorflow as tf\n",
    "import matplotlib.pyplot as plt\n",
    "import os , shutil"
   ]
  },
  {
   "cell_type": "code",
   "execution_count": 2,
   "metadata": {
    "colab": {
     "base_uri": "https://localhost:8080/",
     "height": 33
    },
    "colab_type": "code",
    "id": "KIj70MMUF-rf",
    "outputId": "96abbc29-6a4f-4bef-d424-f2bdd8fcce4f"
   },
   "outputs": [],
   "source": [
    "from keras import models\n",
    "from keras import layers\n",
    "from keras import optimizers\n",
    "from keras.preprocessing import image\n",
    "from keras.preprocessing.image import ImageDataGenerator"
   ]
  },
  {
   "cell_type": "markdown",
   "metadata": {
    "colab_type": "text",
    "id": "zC9HtHYDZ-BJ"
   },
   "source": [
    "Prepare the Data"
   ]
  },
  {
   "cell_type": "code",
   "execution_count": 3,
   "metadata": {
    "colab": {},
    "colab_type": "code",
    "id": "V6cesGYqIACy"
   },
   "outputs": [],
   "source": [
    "train = 'train'"
   ]
  },
  {
   "cell_type": "code",
   "execution_count": 4,
   "metadata": {
    "colab": {},
    "colab_type": "code",
    "id": "EpCwB45wIYwS"
   },
   "outputs": [],
   "source": [
    "val = 'val'\n",
    "test = 'test'"
   ]
  },
  {
   "cell_type": "code",
   "execution_count": 5,
   "metadata": {
    "colab": {},
    "colab_type": "code",
    "id": "DDz6kMsXIZ9e"
   },
   "outputs": [],
   "source": [
    "gen = ImageDataGenerator(rescale=1./255, rotation_range=40, \n",
    "                         width_shift_range= 0.2,\n",
    "                         height_shift_range= 0.2,\n",
    "                         zoom_range = 0.2, \n",
    "                         shear_range= 0.2,\n",
    "                         fill_mode = 'nearest')\n",
    "                        "
   ]
  },
  {
   "cell_type": "code",
   "execution_count": 6,
   "metadata": {
    "colab": {
     "base_uri": "https://localhost:8080/",
     "height": 33
    },
    "colab_type": "code",
    "id": "zfvRVHADIsrc",
    "outputId": "3ab041ac-857a-44f3-bdaa-e16062b0b3a4"
   },
   "outputs": [
    {
     "name": "stdout",
     "output_type": "stream",
     "text": [
      "Found 244 images belonging to 2 classes.\n"
     ]
    }
   ],
   "source": [
    "train_gen = gen.flow_from_directory(train , target_size= (200,200) , class_mode='binary' , batch_size=20  )"
   ]
  },
  {
   "cell_type": "code",
   "execution_count": 7,
   "metadata": {
    "colab": {
     "base_uri": "https://localhost:8080/",
     "height": 33
    },
    "colab_type": "code",
    "id": "WQbvPo-1JuSE",
    "outputId": "3e9ba94b-91cf-45d8-bad7-3b4569688495"
   },
   "outputs": [
    {
     "name": "stdout",
     "output_type": "stream",
     "text": [
      "Found 20 images belonging to 2 classes.\n"
     ]
    }
   ],
   "source": [
    "val_gen = gen.flow_from_directory(val , target_size=(200,200) , class_mode=\"binary\" , batch_size=20)"
   ]
  },
  {
   "cell_type": "code",
   "execution_count": 8,
   "metadata": {
    "colab": {},
    "colab_type": "code",
    "id": "R-Y3yn1YKLa3"
   },
   "outputs": [],
   "source": [
    "#Making MOdel \n",
    "model1 = models.Sequential()"
   ]
  },
  {
   "cell_type": "code",
   "execution_count": 9,
   "metadata": {
    "colab": {
     "base_uri": "https://localhost:8080/",
     "height": 293
    },
    "colab_type": "code",
    "id": "Kn-di2TYOkxe",
    "outputId": "8a14f58c-04d4-4a77-a048-61d2fa01ffc9"
   },
   "outputs": [
    {
     "name": "stdout",
     "output_type": "stream",
     "text": [
      "data batch shape: (20, 200, 200, 3)\n",
      "labels batch shape: (20,)\n",
      "0.0\n",
      "1\n",
      "data batch shape: (20, 200, 200, 3)\n",
      "labels batch shape: (20,)\n",
      "1.0\n",
      "2\n",
      "data batch shape: (20, 200, 200, 3)\n",
      "labels batch shape: (20,)\n",
      "0.0\n",
      "3\n",
      "data batch shape: (20, 200, 200, 3)\n",
      "labels batch shape: (20,)\n",
      "1.0\n",
      "4\n",
      "4\n"
     ]
    }
   ],
   "source": [
    "counter =0\n",
    "for data_batch, labels_batch in train_gen:\n",
    "    print('data batch shape:', data_batch.shape)\n",
    "    print('labels batch shape:', labels_batch.shape)\n",
    "    print(labels_batch[counter])\n",
    "    counter += 1\n",
    "    print(counter)\n",
    "    if counter > 3:\n",
    "        break\n",
    "print(counter)"
   ]
  },
  {
   "cell_type": "code",
   "execution_count": 10,
   "metadata": {
    "colab": {
     "base_uri": "https://localhost:8080/",
     "height": 33
    },
    "colab_type": "code",
    "id": "Wj8scigjPSN9",
    "outputId": "daccb9f0-e6d3-4c2e-d1d6-ea5a7911175e"
   },
   "outputs": [
    {
     "data": {
      "text/plain": [
       "0.0"
      ]
     },
     "execution_count": 10,
     "metadata": {},
     "output_type": "execute_result"
    }
   ],
   "source": [
    "data_batch[0]\n",
    "labels_batch[0]"
   ]
  },
  {
   "cell_type": "markdown",
   "metadata": {
    "colab_type": "text",
    "id": "mSmAXqlhaGyv"
   },
   "source": [
    "Making a Model "
   ]
  },
  {
   "cell_type": "code",
   "execution_count": 11,
   "metadata": {
    "colab": {},
    "colab_type": "code",
    "id": "L05TGci1PWtm"
   },
   "outputs": [],
   "source": [
    "\n",
    "model = model1\n"
   ]
  },
  {
   "cell_type": "code",
   "execution_count": 12,
   "metadata": {
    "colab": {},
    "colab_type": "code",
    "id": "80TvaZHkSD9L"
   },
   "outputs": [],
   "source": [
    "model.add(layers.Conv2D(32,(3,3), activation='relu' , input_shape = (200,200,3)))\n",
    "model.add(layers.Conv2D(32,(3,3), activation='relu'))\n",
    "model.add(layers.MaxPooling2D((2, 2)))\n",
    "model.add(layers.Conv2D(64, (3, 3), activation='relu'))\n",
    "model.add(layers.Conv2D(64, (3, 3), activation='relu'))\n",
    "model.add(layers.MaxPooling2D((2, 2)))\n",
    "model.add(layers.Conv2D(128, (3, 3), activation='relu'))\n",
    "model.add(layers.Conv2D(128, (3, 3), activation='relu'))\n",
    "model.add(layers.MaxPooling2D((2, 2)))\n",
    "model.add(layers.Conv2D(256, (3, 3), activation='relu'))\n",
    "model.add(layers.Conv2D(256, (3, 3), activation='relu'))\n",
    "model.add(layers.MaxPooling2D((2, 2)))\n",
    "model.add(layers.Flatten())\n",
    "model.add(layers.Dense(512, activation='relu'))\n",
    "model.add(layers.Dense(1, activation='sigmoid'))\n",
    "\n",
    "\n"
   ]
  },
  {
   "cell_type": "code",
   "execution_count": 13,
   "metadata": {
    "colab": {
     "base_uri": "https://localhost:8080/",
     "height": 635
    },
    "colab_type": "code",
    "id": "-I2MLL44T_Rz",
    "outputId": "3b7be5e1-417d-4717-db8b-36c36f896d17"
   },
   "outputs": [
    {
     "name": "stdout",
     "output_type": "stream",
     "text": [
      "Model: \"sequential\"\n",
      "_________________________________________________________________\n",
      "Layer (type)                 Output Shape              Param #   \n",
      "=================================================================\n",
      "conv2d (Conv2D)              (None, 198, 198, 32)      896       \n",
      "_________________________________________________________________\n",
      "conv2d_1 (Conv2D)            (None, 196, 196, 32)      9248      \n",
      "_________________________________________________________________\n",
      "max_pooling2d (MaxPooling2D) (None, 98, 98, 32)        0         \n",
      "_________________________________________________________________\n",
      "conv2d_2 (Conv2D)            (None, 96, 96, 64)        18496     \n",
      "_________________________________________________________________\n",
      "conv2d_3 (Conv2D)            (None, 94, 94, 64)        36928     \n",
      "_________________________________________________________________\n",
      "max_pooling2d_1 (MaxPooling2 (None, 47, 47, 64)        0         \n",
      "_________________________________________________________________\n",
      "conv2d_4 (Conv2D)            (None, 45, 45, 128)       73856     \n",
      "_________________________________________________________________\n",
      "conv2d_5 (Conv2D)            (None, 43, 43, 128)       147584    \n",
      "_________________________________________________________________\n",
      "max_pooling2d_2 (MaxPooling2 (None, 21, 21, 128)       0         \n",
      "_________________________________________________________________\n",
      "conv2d_6 (Conv2D)            (None, 19, 19, 256)       295168    \n",
      "_________________________________________________________________\n",
      "conv2d_7 (Conv2D)            (None, 17, 17, 256)       590080    \n",
      "_________________________________________________________________\n",
      "max_pooling2d_3 (MaxPooling2 (None, 8, 8, 256)         0         \n",
      "_________________________________________________________________\n",
      "flatten (Flatten)            (None, 16384)             0         \n",
      "_________________________________________________________________\n",
      "dense (Dense)                (None, 512)               8389120   \n",
      "_________________________________________________________________\n",
      "dense_1 (Dense)              (None, 1)                 513       \n",
      "=================================================================\n",
      "Total params: 9,561,889\n",
      "Trainable params: 9,561,889\n",
      "Non-trainable params: 0\n",
      "_________________________________________________________________\n"
     ]
    }
   ],
   "source": [
    "model.summary()"
   ]
  },
  {
   "cell_type": "markdown",
   "metadata": {
    "colab_type": "text",
    "id": "iASy93VtaLP-"
   },
   "source": [
    "Compile Model "
   ]
  },
  {
   "cell_type": "code",
   "execution_count": 14,
   "metadata": {
    "colab": {},
    "colab_type": "code",
    "id": "9O6ju5d0T_Ou"
   },
   "outputs": [],
   "source": [
    "model.compile(optimizer=optimizers.RMSprop(lr=1e-4) ,\n",
    "              loss=\"binary_crossentropy\" , \n",
    "              metrics= ['acc'])"
   ]
  },
  {
   "cell_type": "code",
   "execution_count": 16,
   "metadata": {
    "colab": {
     "base_uri": "https://localhost:8080/",
     "height": 342
    },
    "colab_type": "code",
    "id": "cGMhH9Y3Q7Bh",
    "outputId": "009031bd-1b00-46a7-fe2e-1ba33678223d"
   },
   "outputs": [
    {
     "name": "stdout",
     "output_type": "stream",
     "text": [
      "Epoch 1/10\n",
      "13/70 [====>.........................] - ETA: 2:32 - loss: 0.6852 - acc: 0.5943WARNING:tensorflow:Your input ran out of data; interrupting training. Make sure that your dataset or generator can generate at least `steps_per_epoch * epochs` batches (in this case, 700 batches). You may need to use the repeat() function when building your dataset.\n",
      "WARNING:tensorflow:Your input ran out of data; interrupting training. Make sure that your dataset or generator can generate at least `steps_per_epoch * epochs` batches (in this case, 30 batches). You may need to use the repeat() function when building your dataset.\n",
      "70/70 [==============================] - 38s 496ms/step - loss: 0.6852 - acc: 0.5943 - val_loss: 0.6616 - val_acc: 0.6500\n"
     ]
    }
   ],
   "source": [
    "histore = model.fit(train_gen,steps_per_epoch=70,epochs=10, validation_data=val_gen, validation_steps=30)\n",
    "\n",
    "                      \n",
    "                      \n",
    "                      \n",
    "\n"
   ]
  },
  {
   "cell_type": "markdown",
   "metadata": {
    "colab_type": "text",
    "id": "HF6t--EtaP60"
   },
   "source": [
    "Prepare test Data"
   ]
  },
  {
   "cell_type": "code",
   "execution_count": 17,
   "metadata": {
    "colab": {
     "base_uri": "https://localhost:8080/",
     "height": 33
    },
    "colab_type": "code",
    "id": "28EaWx6YU1n8",
    "outputId": "2d4a20e6-b442-4bdd-829d-ebd04b53ab67"
   },
   "outputs": [
    {
     "name": "stdout",
     "output_type": "stream",
     "text": [
      "Found 20 images belonging to 2 classes.\n"
     ]
    }
   ],
   "source": [
    "test_gen = gen.flow_from_directory(test , target_size=(200,200) , class_mode='binary' , batch_size= 20)\n",
    "                                   "
   ]
  },
  {
   "cell_type": "code",
   "execution_count": 18,
   "metadata": {
    "colab": {
     "base_uri": "https://localhost:8080/",
     "height": 293
    },
    "colab_type": "code",
    "id": "W7fJJpNvjxBq",
    "outputId": "335afaf2-18cf-4114-cdb3-0153b4c71dc3"
   },
   "outputs": [
    {
     "name": "stdout",
     "output_type": "stream",
     "text": [
      "data batch shape: (20, 200, 200, 3)\n",
      "labels batch shape: (20,)\n",
      "0.0\n",
      "1\n",
      "data batch shape: (20, 200, 200, 3)\n",
      "labels batch shape: (20,)\n",
      "1.0\n",
      "2\n",
      "data batch shape: (20, 200, 200, 3)\n",
      "labels batch shape: (20,)\n",
      "1.0\n",
      "3\n",
      "data batch shape: (20, 200, 200, 3)\n",
      "labels batch shape: (20,)\n",
      "1.0\n",
      "4\n",
      "4\n"
     ]
    }
   ],
   "source": [
    "counter =0\n",
    "for data_b, labels_b in test_gen:\n",
    "    print('data batch shape:', data_batch.shape)\n",
    "    print('labels batch shape:', labels_batch.shape)\n",
    "    print(labels_batch[counter])\n",
    "    counter += 1\n",
    "    print(counter)\n",
    "    if counter > 3:\n",
    "        break\n",
    "print(counter)"
   ]
  },
  {
   "cell_type": "code",
   "execution_count": 19,
   "metadata": {
    "colab": {
     "base_uri": "https://localhost:8080/",
     "height": 545
    },
    "colab_type": "code",
    "id": "URHZR0ZgkAbQ",
    "outputId": "d09f0384-d4e3-4fba-9295-7da41bfadb31"
   },
   "outputs": [
    {
     "data": {
      "image/png": "[encoded data removed]",
      "text/plain": [
       "<Figure size 432x288 with 1 Axes>"
      ]
     },
     "metadata": {
      "needs_background": "light"
     },
     "output_type": "display_data"
    },
    {
     "data": {
      "image/png": "[encoded data removed]",
      "text/plain": [
       "<Figure size 432x288 with 1 Axes>"
      ]
     },
     "metadata": {
      "needs_background": "light"
     },
     "output_type": "display_data"
    }
   ],
   "source": [
    "%matplotlib inline  \n",
    "import matplotlib.pyplot as plt\n",
    "history = histore.history\n",
    "acc = history['acc']\n",
    "val_acc = history['val_acc']\n",
    "loss = history['loss']\n",
    "val_loss = history['val_loss']\n",
    "epochs = range(1, len(acc) + 1)\n",
    "plt.plot(epochs, acc, 'bo', label='Training acc')\n",
    "plt.plot(epochs, val_acc, 'b', label='Validation acc')\n",
    "plt.title('Training and validation accuracy')\n",
    "plt.legend()\n",
    "plt.figure()\n",
    "plt.plot(epochs, loss, 'bo', label='Training loss')\n",
    "plt.plot(epochs, val_loss, 'b', label='Validation loss')\n",
    "plt.title('Training and validation loss')\n",
    "plt.legend()\n",
    "plt.show()\n"
   ]
  },
  {
   "cell_type": "markdown",
   "metadata": {
    "colab_type": "text",
    "id": "fXwZVnNraXHw"
   },
   "source": [
    "Test a single Image of Corona and non corona x-ray "
   ]
  },
  {
   "cell_type": "code",
   "execution_count": 20,
   "metadata": {
    "colab": {},
    "colab_type": "code",
    "id": "YDazADBV2jwo"
   },
   "outputs": [],
   "source": [
    "d = 'test/normal/IM-0131-0001.jpeg' # non corona image\n",
    "f = \"test/corona/SARS-10.1148rg.242035193-g04mr34g09b-Fig9b-day19.jpeg\"  # corona image"
   ]
  },
  {
   "cell_type": "code",
   "execution_count": 21,
   "metadata": {
    "colab": {},
    "colab_type": "code",
    "id": "sWg3LaSy3SpK"
   },
   "outputs": [],
   "source": [
    "t = image.load_img(d ,target_size=(200,200))\n",
    "t= image.img_to_array(t)\n",
    "t = np.expand_dims(t , axis=0)\n",
    "t/= 255.\n",
    "\n",
    "tf = image.load_img(f ,target_size=(200,200))\n",
    "tf= image.img_to_array(tf)\n",
    "tf = np.expand_dims(tf , axis=0)\n",
    "tf/= 255."
   ]
  },
  {
   "cell_type": "code",
   "execution_count": 22,
   "metadata": {
    "colab": {
     "base_uri": "https://localhost:8080/",
     "height": 548
    },
    "colab_type": "code",
    "id": "P2NPXAth3woC",
    "outputId": "9f7b4696-04ff-4286-998d-1ae6adc88b16"
   },
   "outputs": [
    {
     "data": {
      "text/plain": [
       "<matplotlib.image.AxesImage at 0x1cbda389250>"
      ]
     },
     "execution_count": 22,
     "metadata": {},
     "output_type": "execute_result"
    },
    {
     "data": {
      "image/png": "[encoded data removed]",
      "text/plain": [
       "<Figure size 288x288 with 1 Axes>"
      ]
     },
     "metadata": {
      "needs_background": "light"
     },
     "output_type": "display_data"
    },
    {
     "data": {
      "image/png": "[encoded data removed]",
      "text/plain": [
       "<Figure size 288x288 with 1 Axes>"
      ]
     },
     "metadata": {
      "needs_background": "light"
     },
     "output_type": "display_data"
    }
   ],
   "source": [
    "plt.matshow(t[0]) # non corona image\n",
    "plt.matshow(tf[0]) # corona image"
   ]
  },
  {
   "cell_type": "code",
   "execution_count": 23,
   "metadata": {
    "colab": {},
    "colab_type": "code",
    "id": "uvBCY4Rw4EwO"
   },
   "outputs": [],
   "source": [
    "b = model.predict(t[[0]])\n",
    "a = model.predict(tf[[0]])"
   ]
  },
  {
   "cell_type": "code",
   "execution_count": 24,
   "metadata": {
    "colab": {
     "base_uri": "https://localhost:8080/",
     "height": 33
    },
    "colab_type": "code",
    "id": "4Ps6fg_14VoK",
    "outputId": "dd8d79fa-ebc0-4e9c-db3b-c17e36ce4a55"
   },
   "outputs": [
    {
     "name": "stdout",
     "output_type": "stream",
     "text": [
      "corona\n"
     ]
    }
   ],
   "source": [
    "if a<.50:\n",
    "  print(\"corona\")\n"
   ]
  },
  {
   "cell_type": "code",
   "execution_count": 26,
   "metadata": {
    "colab": {
     "base_uri": "https://localhost:8080/",
     "height": 33
    },
    "colab_type": "code",
    "id": "H0lovIeu6C6k",
    "outputId": "b75910ab-e0c2-4a42-e69a-f774c1fa3a81"
   },
   "outputs": [],
   "source": [
    "if b>.50 :\n",
    "  print('good health')"
   ]
  },
  {
   "cell_type": "markdown",
   "metadata": {
    "colab_type": "text",
    "id": "Hn_f-Dc_ajhN"
   },
   "source": [
    "Making a list as per prediction on test data"
   ]
  },
  {
   "cell_type": "code",
   "execution_count": 27,
   "metadata": {
    "colab": {},
    "colab_type": "code",
    "id": "qlapXLOO6lSq"
   },
   "outputs": [],
   "source": [
    "# TEST the MOdel\n",
    "predict = model.predict(test_gen)\n",
    "predict = list(predict)"
   ]
  },
  {
   "cell_type": "code",
   "execution_count": 28,
   "metadata": {
    "colab": {},
    "colab_type": "code",
    "id": "OTyGZpsJ7PDM"
   },
   "outputs": [],
   "source": [
    "prediction =[]\n"
   ]
  },
  {
   "cell_type": "code",
   "execution_count": 29,
   "metadata": {
    "colab": {},
    "colab_type": "code",
    "id": "msOtfOE-7P7Y"
   },
   "outputs": [],
   "source": [
    "for i in predict:\n",
    "  if i>.50:\n",
    "    prediction.append(\"Healthy\")\n",
    "  else:\n",
    "    prediction.append('CORONA VIRUS')"
   ]
  },
  {
   "cell_type": "code",
   "execution_count": 30,
   "metadata": {
    "colab": {
     "base_uri": "https://localhost:8080/",
     "height": 667
    },
    "colab_type": "code",
    "id": "hxBoSyhG7Uiv",
    "outputId": "fb45311a-999b-42e7-fa77-d2c632e7a91a"
   },
   "outputs": [
    {
     "data": {
      "text/plain": [
       "(['CORONA VIRUS',\n",
       "  'CORONA VIRUS',\n",
       "  'CORONA VIRUS',\n",
       "  'CORONA VIRUS',\n",
       "  'CORONA VIRUS',\n",
       "  'CORONA VIRUS',\n",
       "  'CORONA VIRUS',\n",
       "  'CORONA VIRUS',\n",
       "  'CORONA VIRUS',\n",
       "  'Healthy',\n",
       "  'CORONA VIRUS',\n",
       "  'CORONA VIRUS',\n",
       "  'Healthy',\n",
       "  'CORONA VIRUS',\n",
       "  'CORONA VIRUS',\n",
       "  'CORONA VIRUS',\n",
       "  'CORONA VIRUS',\n",
       "  'CORONA VIRUS',\n",
       "  'CORONA VIRUS',\n",
       "  'CORONA VIRUS'],\n",
       " [array([0.45242894], dtype=float32),\n",
       "  array([0.45078194], dtype=float32),\n",
       "  array([0.4557307], dtype=float32),\n",
       "  array([0.49282962], dtype=float32),\n",
       "  array([0.47824803], dtype=float32),\n",
       "  array([0.4428128], dtype=float32),\n",
       "  array([0.48779815], dtype=float32),\n",
       "  array([0.44886675], dtype=float32),\n",
       "  array([0.4552404], dtype=float32),\n",
       "  array([0.50958675], dtype=float32),\n",
       "  array([0.45840824], dtype=float32),\n",
       "  array([0.44722417], dtype=float32),\n",
       "  array([0.54350716], dtype=float32),\n",
       "  array([0.48405582], dtype=float32),\n",
       "  array([0.4902033], dtype=float32),\n",
       "  array([0.4846216], dtype=float32),\n",
       "  array([0.48108044], dtype=float32),\n",
       "  array([0.46343464], dtype=float32),\n",
       "  array([0.47028235], dtype=float32),\n",
       "  array([0.4509712], dtype=float32)])"
      ]
     },
     "execution_count": 30,
     "metadata": {},
     "output_type": "execute_result"
    }
   ],
   "source": [
    "prediction,predict"
   ]
  },
  {
   "cell_type": "code",
   "execution_count": 31,
   "metadata": {
    "colab": {},
    "colab_type": "code",
    "id": "I62BWy2x7f9-"
   },
   "outputs": [],
   "source": [
    "model.save('Covide19 .h5')"
   ]
  },
  {
   "cell_type": "code",
   "execution_count": null,
   "metadata": {
    "colab": {},
    "colab_type": "code",
    "id": "f_8w4dRhB14L"
   },
   "outputs": [],
   "source": []
  }
 ],
 "metadata": {
  "accelerator": "GPU",
  "colab": {
   "collapsed_sections": [],
   "name": "COVID-19 Prediction with Chest X-Ray Images.ipynb",
   "provenance": []
  },
  "kernelspec": {
   "display_name": "Python 3",
   "language": "python",
   "name": "python3"
  },
  "language_info": {
   "codemirror_mode": {
    "name": "ipython",
    "version": 3
   },
   "file_extension": ".py",
   "mimetype": "text/x-python",
   "name": "python",
   "nbconvert_exporter": "python",
   "pygments_lexer": "ipython3",
   "version": "3.8.5"
  }
 },
 "nbformat": 4,
 "nbformat_minor": 1
}
